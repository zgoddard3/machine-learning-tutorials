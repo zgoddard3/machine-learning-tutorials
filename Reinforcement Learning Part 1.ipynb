{
 "cells": [
  {
   "cell_type": "markdown",
   "id": "e088a871",
   "metadata": {},
   "source": [
    "# Reinforcement Learning\n",
    "\n",
    "This tutorial will walk through some initial concepts and algorithms for reinforcement learning (RL). I'll assume you've already done the general introduction on supervised learning with Tensorflow. We'll start with basic Q-learning to introduce the concept of RL, but you will need to be familiar with Tensorflow models for some of the later algorithms.\n",
    "\n",
    "Additionally, the focus of this tutorial will be on RL in control applications. We'll start by introducing some basic concepts followed by an example with the pendulum problem."
   ]
  },
  {
   "cell_type": "markdown",
   "id": "6f785ff6-2916-4f2d-a998-4c28e297f991",
   "metadata": {},
   "source": [
    "## Markov Decision Process (MDP)\n",
    "\n",
    "Reinfocement learning problems seek to find a solution to an MDP which maximizes a reward. An MDP is represented by a set of states $S$, a set of actions $A$, a reward function $R(s_t,a_t,s_{t+1}) : S \\times A \\times S \\rightarrow \\mathbb{R}$, and a transition function $P(s_t,a_t,s_{t+1}) : S \\times A \\times S \\rightarrow [0,1]$. The reward function maps a transition $(s_t,a_t,s_{t+1})$ to a scalar reward. In many cases this may be simplified to a function of state-action pairs $(s_t,a_t)$ or just state. The transition function returns the probability that a state-action pair $(s_t,a_t)$ will result in a given state $s_{t+1}$. A solution to an MDP is a policy $\\pi(a_t|s_t) : A \\times S \\rightarrow \\mathbb{R}$ which gives the probability of an action $a_t$ given the current state $s_t$. For deterministic policies this may also be written as $\\mu(s_t) : S \\rightarrow A$ which returns an action given the current state.\n",
    "\n",
    "MDPs often have a discount factor $0 \\leq \\gamma < 1$ to weight immediate rewards more favorably than future rewards. In this case the objective of the policy is to maximize the return of a trajectory $\\tau = \\{ (s_0, a_0), (s_1, a_1), ..., (s_T, a_T)\\}$. The return is defined as $G = \\sum_{t=0}^{T-1} \\gamma^t R(s_t, a_t, s_{t+1})$.\n",
    "\n",
    "## Control Theory\n",
    "\n",
    "Control problems can be modeled as an MDP with some minor tweaks and typically different notation. For notation, the state space is often denoted as $X$ and the action space is called the control space denoted as $U$. The reward function is also typically replaced with a cost function $J(x,u)$ which we wish to minimize. The transition function is analogous to the system dynamics $\\dot{x} = f(x,u,w,t)$. We'll mostly be working with deterministic, time-invariant systems represented by the simplified expression $\\dot{x} = f(x,u)$. The following notebook will be dealing with simulations and numerical algorithms, so it's also convenient to work with a discrete-time representation $x_{t+1} = f(x_t, u_t)$. In this representation the parallels to MDPs should be fairly obvious. \n",
    "\n",
    "## Value Iteration\n",
    "\n",
    "Value iteration is one algorithm for solving MDPs if the transition and reward functions are known. Understanding how it works will provide some insight into the RL algorithms we discuss later, which have no direct access to the transition or reward function. Value iteration is based on the principal of optimality. In simple terms, this states that the tail end of any optimal trajectory is also optimal. In more mathematical terms, if you have an optimal trajectory from $x_0$ to $x_T$ which passes through $x_t$ then the portion of that trajectory from $x_t$ to $x_T$ is the optimal solution from $x_t$. This is the basic for dynamic programming methods, which typically find optimal solutions by working backwards from the goal finding optimal solutions to subproblems. Value iteration does this by iteratively solving the following equation:\n",
    "\n",
    "$V_{i+1}(s_t) = \\max_{a_t} \\sum_{s_{t+1}}P(s_t, a_t, s_{t+1})\\left[R(s_t, a_t, s_{t+1}) + \\gamma V_i(s_{t+1})\\right]$\n",
    "\n",
    "In the discrete case, this is guaranteed to converge to an optimal solution $V^*$ which has the following property:\n",
    "\n",
    "$V^*(s_t) = \\max_{a_t} \\sum_{s_{t+1}}P(s_t, a_t, s_{t+1})\\left[R(s_t, a_t, s_{t+1}) + \\gamma V^*(s_{t+1})\\right]$\n",
    "\n",
    "The optimal policy for the MDP is given by:\n",
    "\n",
    "$\\pi^*(s_t) = \\arg\\max_{a_t} \\sum_{s_{t+1}}P(s_t, a_t, s_{t+1})\\left[R(s_t, a_t, s_{t+1}) + \\gamma V^*(s_{t+1})\\right]$"
   ]
  },
  {
   "cell_type": "code",
   "execution_count": 2,
   "id": "48f0e2e3",
   "metadata": {},
   "outputs": [],
   "source": [
    "import tensorflow as tf\n",
    "import numpy as np\n",
    "import matplotlib.pyplot as plt\n",
    "import gym\n",
    "import time\n",
    "\n",
    "from IPython import display\n",
    "\n",
    "%matplotlib inline"
   ]
  },
  {
   "cell_type": "markdown",
   "id": "22390a12",
   "metadata": {},
   "source": [
    "## Loading Gym Environments\n",
    "\n",
    "OpenAI's Gym has a range of environments designed for RL experiments load in and use out-of-the-box. These environments include a simple cartpole problem. This environment gives the position and velocity of the cart and the angle and angular rate of the pendulum as the observation. There are two possible actions for the agent: push left or push right. The agent receives a reward of +1 every time step until the cart position or pendulum angle pass a given threshold. "
   ]
  },
  {
   "cell_type": "code",
   "execution_count": 3,
   "id": "5c0ea1de",
   "metadata": {},
   "outputs": [
    {
     "name": "stdout",
     "output_type": "stream",
     "text": [
      "Observation: Box([-1. -1. -8.], [1. 1. 8.], (3,), float32)\n",
      "Action: Box([-2.], [2.], (1,), float32)\n"
     ]
    }
   ],
   "source": [
    "env = gym.make(\"Pendulum-v1\")\n",
    "\n",
    "print(\"Observation:\", env.observation_space)\n",
    "print(\"Action:\", env.action_space)"
   ]
  },
  {
   "cell_type": "markdown",
   "id": "119804db",
   "metadata": {},
   "source": [
    "We can quickly visualize this environment to see how an agent is performing. Since we don't yet have an agent, we'll just sample actions randomly. Of course, this policy won't last long before failing."
   ]
  },
  {
   "cell_type": "code",
   "execution_count": 3,
   "id": "47e78bb5",
   "metadata": {},
   "outputs": [
    {
     "data": {
      "image/png": "[encoded data removed]",
      "text/plain": [
       "<Figure size 432x288 with 1 Axes>"
      ]
     },
     "metadata": {
      "needs_background": "light"
     },
     "output_type": "display_data"
    }
   ],
   "source": [
    "env.reset()\n",
    "img = plt.imshow(env.render(mode='rgb_array'))\n",
    "done = False\n",
    "while not done:\n",
    "    action = env.action_space.sample()\n",
    "    _, _, done, _ = env.step(action)\n",
    "    img.set_data(env.render(mode='rgb_array'))\n",
    "    display.display(plt.gcf())\n",
    "    display.clear_output(wait=True)\n",
    "env.close()"
   ]
  },
  {
   "cell_type": "markdown",
   "id": "300118de",
   "metadata": {},
   "source": [
    "## Q-Learning\n",
    "\n",
    "We start by solving this environment with the Q-learning algorithm. This isn't a *Deep* RL algorithm, but it provides a more clear example of the principles that later algorithms will be working off of. \n",
    "\n",
    "The objective of Q-Learning (and many algorithms we explore later) is to learn a q-function which $Q : S \\times A \\rightarrow \\mathbb{R}$ predicts the value for taking an action at a given state. This is similar to the value function in Value Iteration, but determines the value for state-action pairs instead of state alone. Similarly to value iteration, the optimal q-function should satisfy the following condition:\n",
    "\n",
    "$Q^*(s_t, a_t) = \\sum_{s_{t+1}} P(s_t, a_t, s_{t+t}) \\left[R(s_t, a_t, s_{t+1}) + \\gamma \\max_{a_{t+1}} Q^*(s_{t+1}, a_{t+1})\\right]$\n",
    "\n",
    "Regular Q-Learning represents this function as a look-up table and learns each value through dynamic programming. Since we don't have access to the transition function or reward function, we have to learn this function by sampling experience. Experience is sampled from the environment as transitions in the form $(s_t, a_t, s_{t+1})$. Each time new experience is sampled, the Q value is updated by the equation:\n",
    "\n",
    "$Q(s_t, a_t) \\leftarrow (1 - \\alpha) Q(s_t, a_t) + \\alpha \\left[R(s_t, a_t, s_{t+1}) + \\gamma \\max_a Q(s_{t+1}, a)\\right]$\n",
    "\n",
    "The learning rate $\\alpha$ is typically a small value which can be adjusted to change how fast the q-function is updated. This soft update allows the q-function to approximate stochastic transitions. The pendulum environment is deterministic, but we need to discretize the state space to create a tabular q-function. The soft update helps since our discretized state space doesn't perfectly represent the actual state."
   ]
  },
  {
   "cell_type": "code",
   "execution_count": 4,
   "id": "b420b263",
   "metadata": {},
   "outputs": [
    {
     "name": "stdout",
     "output_type": "stream",
     "text": [
      "Angle Break Points: [-3.14159265 -2.82743339 -2.51327412 -2.19911486 -1.88495559 -1.57079633\n",
      " -1.25663706 -0.9424778  -0.62831853 -0.31415927  0.          0.31415927\n",
      "  0.62831853  0.9424778   1.25663706  1.57079633  1.88495559  2.19911486\n",
      "  2.51327412  2.82743339  3.14159265]\n",
      "Angular Rate Break Points: [-inf -7.5 -7.  -6.5 -6.  -5.5 -5.  -4.5 -4.  -3.5 -3.  -2.5 -2.  -1.5\n",
      " -1.  -0.5  0.   0.5  1.   1.5  2.   2.5  3.   3.5  4.   4.5  5.   5.5\n",
      "  6.   6.5  7.   7.5]\n",
      "Number of States: 672\n"
     ]
    }
   ],
   "source": [
    "theta = np.linspace(-np.pi, np.pi, 21)\n",
    "thetadot = np.arange(-8, 7.6, .5)\n",
    "thetadot[0] = -np.inf # Setting first entry to neg. infinity for numerical errors\n",
    "\n",
    "print(\"Angle Break Points:\", theta)\n",
    "print(\"Angular Rate Break Points:\", thetadot)\n",
    "\n",
    "N = theta.shape[0]*thetadot.shape[0]\n",
    "\n",
    "print(\"Number of States:\", N)\n",
    "\n",
    "Q = np.zeros((N,3))\n",
    "\n",
    "\n",
    "# Maps the continuous angle and angular rate to a discrete state value\n",
    "def state_map(obs):\n",
    "    angle = np.arctan2(obs[1], obs[0])\n",
    "    i = np.nonzero(theta <= angle)[0][-1]\n",
    "    j = np.nonzero(thetadot <= obs[2])[0][-1]\n",
    "    \n",
    "    return j + i*thetadot.shape[0]\n",
    "\n",
    "# Maps the action index to a continuous action\n",
    "def action_map(action):\n",
    "    if action == 0:\n",
    "        return np.array([-2])\n",
    "    elif action == 1:\n",
    "        return np.array([0])\n",
    "    else:\n",
    "        return np.array([2])"
   ]
  },
  {
   "cell_type": "markdown",
   "id": "b42c4dfc",
   "metadata": {},
   "source": [
    "### Training a Q Table\n",
    "\n",
    "Now we just need to collect some experience and update our Q function until it converges on a successful policy. When you run the following cell it will show you the average return for the last 100 episodes. You can use this to gauge how well the policy is doing. If you run the cell multiple times it will continue training the Q-table from where it left off. You may need to run it a few times before it settles on a final value. The average return should settle around -400 to -500."
   ]
  },
  {
   "cell_type": "code",
   "execution_count": 7,
   "id": "a38c3eda",
   "metadata": {},
   "outputs": [
    {
     "name": "stdout",
     "output_type": "stream",
     "text": [
      "Episode 999: Running Average = -473.48046761520015\r"
     ]
    }
   ],
   "source": [
    "lr = 0.1\n",
    "returns = []\n",
    "for i in range(1000):\n",
    "    obs = env.reset()\n",
    "    total_return = 0\n",
    "    done = False\n",
    "    while not done:\n",
    "        ind = state_map(obs)\n",
    "        if np.random.rand() > .2:\n",
    "            action = np.argmax(Q[ind])\n",
    "        else:\n",
    "            action = np.random.randint(3)\n",
    "        obs, reward, done, _ = env.step(action_map(action))\n",
    "        total_return += reward\n",
    "\n",
    "        Q[ind, action] = (1 - lr) * Q[ind, action] + lr * (reward + 0.99 * np.max(Q[state_map(obs)]))\n",
    "    \n",
    "    returns.append(total_return)\n",
    "    if len(returns) > 100:\n",
    "        returns.pop(0)\n",
    "    print(\"Episode {}: Running Average = {}\".format(i, sum(returns)/len(returns)), flush=True, end='\\r')\n",
    "    \n",
    "env.close()"
   ]
  },
  {
   "cell_type": "markdown",
   "id": "ba164e4f",
   "metadata": {},
   "source": [
    "### Visualizing the Final Policy\n",
    "\n",
    "Now that we've trained a Q function we can visualize how well it performs. It should be able to swing the pendulum up and hold it mostly upright. It probably won't be perfect for every initialization. Try going back to the training loop and adjusting the learning rate to get a slightly better performance. You should be able to get it to settle around an average return of -300. "
   ]
  },
  {
   "cell_type": "code",
   "execution_count": 9,
   "id": "5a07d0cc",
   "metadata": {},
   "outputs": [
    {
     "data": {
      "image/png": "[encoded data removed]",
      "text/plain": [
       "<Figure size 432x288 with 1 Axes>"
      ]
     },
     "metadata": {
      "needs_background": "light"
     },
     "output_type": "display_data"
    }
   ],
   "source": [
    "obs = env.reset()\n",
    "img = plt.imshow(env.render(mode='rgb_array'))\n",
    "done = False\n",
    "while not done:\n",
    "    ind = state_map(obs)\n",
    "    action = np.argmax(Q[ind])\n",
    "    obs, reward, done, _ = env.step(action_map(action))\n",
    "\n",
    "    img.set_data(env.render(mode='rgb_array'))\n",
    "    display.display(plt.gcf())\n",
    "    display.clear_output(wait=True)\n",
    "env.close()"
   ]
  },
  {
   "cell_type": "markdown",
   "id": "4e0a9dba-69a8-4d9c-9b3d-3c86d1ba3487",
   "metadata": {},
   "source": [
    "## Deep Q-Learning\n",
    "\n",
    "Now we'll move on to the actual *Deep* Learning part. The table does alright for the pendulum, but the number of states you need to store will explode with higher dimensional state spaces and finer resolutions. It would be better if we can store the Q value as a function of the state instead of a look up table. We'll need a function approximator, which could be a few different things such as a linear model or interpolator. The popular choice, and arguably most powerful, is a deep neural network which is also where the following methods get the name *Deep* Reinforcement Learning. You'll want to complete the Introduction notebook before continuing if you haven't already.\n",
    "\n",
    "The first algorithm we'll look at is the Deep Q Network. This method uses a deep neural network to estimate Q values for a discrete set of actions given any point in a continuous state space. We'll denote the Q function represented by this network as $Q_\\theta (s, a)$ where $\\theta$ is the set of parameters for the network. We have to update these parameters in a way that moves the Q function towards the target value at the sampled state. "
   ]
  },
  {
   "cell_type": "code",
   "execution_count": 82,
   "id": "0f95e122-155f-4a25-bd71-3ae63da97182",
   "metadata": {},
   "outputs": [],
   "source": [
    "class QNetwork(tf.keras.Model):\n",
    "    def __init__(self, num_actions):\n",
    "        super().__init__()\n",
    "        \n",
    "        # Add some dense layers with ReLU activations\n",
    "        self.hidden_layer1 = tf.keras.layers.Dense(128, activation='relu')\n",
    "        self.hidden_layer2 = tf.keras.layers.Dense(64, activation='relu')\n",
    "\n",
    "        # Add a layer for the output value\n",
    "        self.value = tf.keras.layers.Dense(num_actions)\n",
    "    \n",
    "    @tf.function\n",
    "    def call(self, x):\n",
    "        x = self.hidden_layer1(x)\n",
    "        x = self.hidden_layer2(x)\n",
    "        return self.value(x)"
   ]
  },
  {
   "cell_type": "code",
   "execution_count": 92,
   "id": "f3e6204a-a3d1-47ca-8d04-a2d55000df9a",
   "metadata": {},
   "outputs": [],
   "source": [
    "class QAgent:\n",
    "    def __init__(self, model):\n",
    "        self.model = model\n",
    "        self.gamma = 0.95\n",
    "        \n",
    "        # Create an optimizer\n",
    "        self.optimizer = tf.keras.optimizers.Adam(learning_rate=1e-3)\n",
    "    \n",
    "    def action(self, state):\n",
    "        action = np.argmax(self.model(state).numpy())\n",
    "        return action\n",
    "    \n",
    "    def train(self, experience):\n",
    "        state, action, reward, next_state, done = experience\n",
    "\n",
    "        # This line lets us record gradients\n",
    "        with tf.GradientTape() as tape:\n",
    "            target = reward + self.gamma * tf.stop_gradient(tf.reduce_max(self.model(next_state), 1)) * (1 - done)\n",
    "            td_error = tf.reduce_sum(self.model(state) * tf.one_hot(action, 3), 1) - target\n",
    "            loss = tf.reduce_mean(td_error**2, 0)\n",
    "            \n",
    "        # Get gradients and apply them to the model's parameters\n",
    "        grads = tape.gradient(loss, self.model.trainable_weights)\n",
    "        self.optimizer.apply_gradients(zip(grads, self.model.trainable_weights))"
   ]
  },
  {
   "cell_type": "code",
   "execution_count": 93,
   "id": "21894e0b-0298-4c74-9bda-49161a895c6c",
   "metadata": {},
   "outputs": [],
   "source": [
    "model = QNetwork(3)\n",
    "agent = QAgent(model)"
   ]
  },
  {
   "cell_type": "code",
   "execution_count": 94,
   "id": "5b5f1682-21f1-408e-87cd-882c5f737a0c",
   "metadata": {},
   "outputs": [
    {
     "data": {
      "text/plain": [
       "<tf.Tensor: shape=(1, 3), dtype=float32, numpy=array([[-0.04323262, -0.02003453,  0.2323629 ]], dtype=float32)>"
      ]
     },
     "execution_count": 94,
     "metadata": {},
     "output_type": "execute_result"
    }
   ],
   "source": [
    "model(np.expand_dims(env.reset(), 0))"
   ]
  },
  {
   "cell_type": "code",
   "execution_count": 95,
   "id": "6605011d-a970-4548-9ee9-0fbc9720262b",
   "metadata": {},
   "outputs": [
    {
     "data": {
      "text/plain": [
       "2"
      ]
     },
     "execution_count": 95,
     "metadata": {},
     "output_type": "execute_result"
    }
   ],
   "source": [
    "agent.action(np.expand_dims(env.reset(), 0))"
   ]
  },
  {
   "cell_type": "code",
   "execution_count": 96,
   "id": "3f892731-494a-43a2-9dbb-0574e2067b69",
   "metadata": {},
   "outputs": [
    {
     "name": "stdout",
     "output_type": "stream",
     "text": [
      "Episode 999: Running Average = -478.74727361637245\r"
     ]
    }
   ],
   "source": [
    "returns = []\n",
    "for i in range(1000):\n",
    "    obs = env.reset()\n",
    "    obs = np.expand_dims(obs, 0)\n",
    "    total_return = 0\n",
    "    done = False\n",
    "    while not done:\n",
    "        \n",
    "        if np.random.rand() > .2:\n",
    "            action = agent.action(obs)\n",
    "        else:\n",
    "            action = np.random.randint(3)\n",
    "        next_obs, reward, done, _ = env.step(action_map(action))\n",
    "        next_obs = np.expand_dims(next_obs, 0)\n",
    "        \n",
    "        experience = obs, action, reward, next_obs, done\n",
    "        agent.train(experience)\n",
    "        \n",
    "        obs = next_obs\n",
    "        total_return += reward\n",
    "    \n",
    "    returns.append(total_return)\n",
    "    if len(returns) > 100:\n",
    "        returns.pop(0)\n",
    "    print(\"Episode {}: Running Average = {}\".format(i, sum(returns)/len(returns)), flush=True, end='\\r')"
   ]
  },
  {
   "cell_type": "code",
   "execution_count": 97,
   "id": "bc20f18c-0997-4ec1-9462-1122462bab0c",
   "metadata": {},
   "outputs": [
    {
     "data": {
      "image/png": "[encoded data removed]",
      "text/plain": [
       "<Figure size 432x288 with 1 Axes>"
      ]
     },
     "metadata": {
      "needs_background": "light"
     },
     "output_type": "display_data"
    }
   ],
   "source": [
    "obs = env.reset()\n",
    "img = plt.imshow(env.render(mode='rgb_array'))\n",
    "done = False\n",
    "while not done:\n",
    "    obs = np.expand_dims(obs, 0)\n",
    "    action = agent.action(obs)\n",
    "    obs, reward, done, _ = env.step(action_map(action))\n",
    "\n",
    "    img.set_data(env.render(mode='rgb_array'))\n",
    "    display.display(plt.gcf())\n",
    "    display.clear_output(wait=True)\n",
    "env.close()"
   ]
  },
  {
   "cell_type": "code",
   "execution_count": 4,
   "id": "0ba43a34-de84-4c6b-947c-d4b64072eae5",
   "metadata": {},
   "outputs": [],
   "source": [
    "class CriticNetwork(tf.keras.Model):\n",
    "    def __init__(self):\n",
    "        super().__init__()\n",
    "        \n",
    "        # Add some dense layers with ReLU activations\n",
    "        self.hidden_layer1 = tf.keras.layers.Dense(128, activation='relu')\n",
    "        self.hidden_layer2 = tf.keras.layers.Dense(64, activation='relu')\n",
    "\n",
    "        # Add a layer for the output value\n",
    "        self.value = tf.keras.layers.Dense(1)\n",
    "    \n",
    "    def call(self, state, action):\n",
    "        x = tf.concat((state, action), 1)\n",
    "        x = self.hidden_layer1(x)\n",
    "        x = self.hidden_layer2(x)\n",
    "        return self.value(x)"
   ]
  },
  {
   "cell_type": "code",
   "execution_count": 18,
   "id": "da5514fe-f9ae-4202-92f9-463ad701da9a",
   "metadata": {},
   "outputs": [],
   "source": [
    "class ActorNetwork(tf.keras.Model):\n",
    "    def __init__(self):\n",
    "        super().__init__()\n",
    "        \n",
    "        # Add some dense layers with ReLU activations\n",
    "        self.hidden_layer1 = tf.keras.layers.Dense(128, activation='relu')\n",
    "        self.hidden_layer2 = tf.keras.layers.Dense(64, activation='relu')\n",
    "\n",
    "        # Add a layer for the output action\n",
    "        self.action = tf.keras.layers.Dense(1, activation='tanh')\n",
    "    \n",
    "    def call(self, x):\n",
    "        x = self.hidden_layer1(x)\n",
    "        x = self.hidden_layer2(x)\n",
    "        return 2 * self.action(x)"
   ]
  },
  {
   "cell_type": "code",
   "execution_count": 87,
   "id": "2c779f22-b1cf-4dd0-92f6-10cafd07a56c",
   "metadata": {},
   "outputs": [],
   "source": [
    "class DDPG:\n",
    "    def __init__(self, critic, actor):\n",
    "        self.critic = critic\n",
    "        self.actor = actor\n",
    "        self.gamma = 0.95\n",
    "        \n",
    "        # Create optimizers\n",
    "        self.critic_optimizer = tf.keras.optimizers.Adam(learning_rate=1e-3)\n",
    "        self.actor_optimizer = tf.keras.optimizers.Adam(learning_rate=1e-3)\n",
    "\n",
    "        # Parameters for minibatching\n",
    "        self.batch_size = 64\n",
    "    \n",
    "    def action(self, state):\n",
    "        return self.actor(state).numpy()[0]\n",
    "    \n",
    "    def train(self, experience):\n",
    "        state, action, reward, next_state, done = experience\n",
    "\n",
    "        # Critic update\n",
    "        with tf.GradientTape() as tape:\n",
    "            target = reward + self.gamma * tf.stop_gradient(self.critic(next_state, self.actor(next_state))) * (1 - done)\n",
    "            td_error = self.critic(state, action) - target\n",
    "            loss = tf.reduce_mean(td_error**2, 0)\n",
    "            \n",
    "        # Get gradients and apply them to the model's parameters\n",
    "        grads = tape.gradient(loss, self.critic.trainable_weights)\n",
    "        self.critic_optimizer.apply_gradients(zip(grads, self.critic.trainable_weights))\n",
    "        \n",
    "        # Critic update\n",
    "        with tf.GradientTape() as tape:\n",
    "            action = self.actor(state)\n",
    "            value = self.critic(state, action)\n",
    "            loss = -value\n",
    "            \n",
    "        # Get gradients and apply them to the model's parameters\n",
    "        grads = tape.gradient(loss, self.actor.trainable_weights)\n",
    "        self.actor_optimizer.apply_gradients(zip(grads, self.actor.trainable_weights))"
   ]
  },
  {
   "cell_type": "code",
   "execution_count": 89,
   "id": "677b0fec-d35d-4e7c-80fd-187d7c5552d8",
   "metadata": {},
   "outputs": [],
   "source": [
    "critic = CriticNetwork()\n",
    "actor = ActorNetwork()\n",
    "agent = DDPG(critic, actor)"
   ]
  },
  {
   "cell_type": "code",
   "execution_count": 91,
   "id": "cf7dd82a-eaa9-4591-a904-4c97551b660a",
   "metadata": {},
   "outputs": [
    {
     "name": "stdout",
     "output_type": "stream",
     "text": [
      "Episode 999: Running Average = -445.94807517883754\r"
     ]
    }
   ],
   "source": [
    "returns = []\n",
    "for i in range(1000):\n",
    "    obs = env.reset()\n",
    "    obs = np.expand_dims(obs, 0)\n",
    "    total_return = 0\n",
    "    done = False\n",
    "    while not done:\n",
    "        \n",
    "        if np.random.rand() > .2:\n",
    "            action = agent.action(obs)\n",
    "        else:\n",
    "            action = np.random.rand(1)*4 - 2\n",
    "        \n",
    "        next_obs, reward, done, _ = env.step(action)\n",
    "        next_obs = np.expand_dims(next_obs, 0)\n",
    "        \n",
    "        experience = obs, np.expand_dims(action, 0), reward, next_obs, done\n",
    "        agent.train(experience)\n",
    "        \n",
    "        obs = next_obs\n",
    "        total_return += reward\n",
    "    \n",
    "    returns.append(total_return)\n",
    "    if len(returns) > 100:\n",
    "        returns.pop(0)\n",
    "    print(\"Episode {}: Running Average = {}\".format(i, sum(returns)/len(returns)), flush=True, end='\\r')"
   ]
  },
  {
   "cell_type": "code",
   "execution_count": 92,
   "id": "219c4bcb-664b-4624-8610-caa66c5ebb1a",
   "metadata": {},
   "outputs": [
    {
     "data": {
      "image/png": "[encoded data removed]",
      "text/plain": [
       "<Figure size 432x288 with 1 Axes>"
      ]
     },
     "metadata": {
      "needs_background": "light"
     },
     "output_type": "display_data"
    }
   ],
   "source": [
    "obs = env.reset()\n",
    "img = plt.imshow(env.render(mode='rgb_array'))\n",
    "done = False\n",
    "while not done:\n",
    "    obs = np.expand_dims(obs, 0)\n",
    "    action = agent.action(obs)\n",
    "    obs, reward, done, _ = env.step(action)\n",
    "\n",
    "    img.set_data(env.render(mode='rgb_array'))\n",
    "    display.display(plt.gcf())\n",
    "    display.clear_output(wait=True)\n",
    "env.close()"
   ]
  }
 ],
 "metadata": {
  "kernelspec": {
   "display_name": "Python 3 (ipykernel)",
   "language": "python",
   "name": "python3"
  },
  "language_info": {
   "codemirror_mode": {
    "name": "ipython",
    "version": 3
   },
   "file_extension": ".py",
   "mimetype": "text/x-python",
   "name": "python",
   "nbconvert_exporter": "python",
   "pygments_lexer": "ipython3",
   "version": "3.9.7"
  }
 },
 "nbformat": 4,
 "nbformat_minor": 5
}
