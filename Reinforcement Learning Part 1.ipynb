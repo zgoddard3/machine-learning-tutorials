{
 "cells": [
  {
   "cell_type": "markdown",
   "id": "e088a871",
   "metadata": {},
   "source": [
    "# Reinforcement Learning\n",
    "\n",
    "This tutorial will walk through some initial concepts and algorithms for reinforcement learning (RL). I'll assume you've already done the general introduction on supervised learning with Tensorflow. We'll start with basic Q-learning to introduce the concept of RL, but you will need to be familiar with Tensorflow models for some of the later algorithms.\n",
    "\n",
    "Additionally, the focus of this tutorial will be on RL in control applications. We'll start by introducing the cartpole problem."
   ]
  },
  {
   "cell_type": "code",
   "execution_count": 1,
   "id": "48f0e2e3",
   "metadata": {},
   "outputs": [],
   "source": [
    "import tensorflow as tf\n",
    "import numpy as np\n",
    "import matplotlib.pyplot as plt\n",
    "import gym\n",
    "import time\n",
    "\n",
    "from IPython import display\n",
    "\n",
    "%matplotlib inline"
   ]
  },
  {
   "cell_type": "markdown",
   "id": "22390a12",
   "metadata": {},
   "source": [
    "## Loading Gym Environments\n",
    "\n",
    "OpenAI's Gym has a range of environments designed for RL experiments load in and use out-of-the-box. These environments include a simple cartpole problem. This environment gives the position and velocity of the cart and the angle and angular rate of the pendulum as the observation. There are two possible actions for the agent: push left or push right. The agent receives a reward of +1 every time step until the cart position or pendulum angle pass a given threshold. "
   ]
  },
  {
   "cell_type": "code",
   "execution_count": 2,
   "id": "5c0ea1de",
   "metadata": {},
   "outputs": [
    {
     "name": "stdout",
     "output_type": "stream",
     "text": [
      "Observation: Box([-4.8000002e+00 -3.4028235e+38 -4.1887903e-01 -3.4028235e+38], [4.8000002e+00 3.4028235e+38 4.1887903e-01 3.4028235e+38], (4,), float32)\n",
      "Action: Discrete(2)\n"
     ]
    }
   ],
   "source": [
    "env = gym.make(\"CartPole-v1\")\n",
    "\n",
    "print(\"Observation:\", env.observation_space)\n",
    "print(\"Action:\", env.action_space)"
   ]
  },
  {
   "cell_type": "markdown",
   "id": "119804db",
   "metadata": {},
   "source": [
    "We can quickly visualize this environment to see how an agent is performing. Since we don't yet have an agent, we'll just sample actions randomly. Of course, this policy won't last long before failing."
   ]
  },
  {
   "cell_type": "code",
   "execution_count": 3,
   "id": "47e78bb5",
   "metadata": {},
   "outputs": [
    {
     "data": {
      "image/png": "[encoded data removed]",
      "text/plain": [
       "<Figure size 432x288 with 1 Axes>"
      ]
     },
     "metadata": {
      "needs_background": "light"
     },
     "output_type": "display_data"
    }
   ],
   "source": [
    "env.reset()\n",
    "img = plt.imshow(env.render(mode='rgb_array'))\n",
    "done = False\n",
    "while not done:\n",
    "    action = env.action_space.sample()\n",
    "    _, _, done, _ = env.step(action)\n",
    "    img.set_data(env.render(mode='rgb_array'))\n",
    "    display.display(plt.gcf())\n",
    "    display.clear_output(wait=True)\n",
    "env.close()"
   ]
  },
  {
   "cell_type": "markdown",
   "id": "300118de",
   "metadata": {},
   "source": [
    "## Q-Learning\n",
    "\n",
    "We start by solving this algorithm with Q-learning. This isn't a *Deep* RL algorithm, but it provides a more clear example of the principles that later algorithms will be working off of. \n",
    "\n",
    "The objective of Q-Learning (and many algorithms we explore later) is to learn a function to predict the value for taking an action at a given state. In mathematical terms, $Q : S \\times A \\rightarrow \\mathbb{R}$ where $S$ is the state space $A$ is the action space. \n",
    "\n",
    "Regular Q-Learning represents this function as a look-up table and learns each value through dynamic programming. Experience is sampled from the environment in the for $(s_t, a_t, s_{t+1})$. Each time new experience is sampled, the Q value is updated by the equation:\n",
    "\n",
    "$Q_{i+1}(s_t, a_t) \\leftarrow R(s_t, a_t, s_{t+1}) + \\gamma \\max_a Q_i(s_{t+1}, a)$\n",
    "\n",
    "This is the sum of the immediate rewards, $R(s_t, a_t, s_{t+1})$, and the future rewards estimated by the Q function discounted by some $\\gamma$ between 0 and 1. \n",
    "\n",
    "Since the state space of the cartpole is continuous, we need to discretize it before we can build a Q table."
   ]
  },
  {
   "cell_type": "code",
   "execution_count": 4,
   "id": "b420b263",
   "metadata": {},
   "outputs": [
    {
     "name": "stdout",
     "output_type": "stream",
     "text": [
      "x: [-6 -4 -2  0  2  4]\n",
      "theta: [-0.42 -0.21  0.    0.21]\n",
      "thetadot: [ -inf -0.1  -0.05  0.    0.05  0.1 ]\n",
      "xdot: [-inf -1.  -0.5  0.   0.5  1. ]\n"
     ]
    }
   ],
   "source": [
    "x = np.arange(-6, 5, 2)\n",
    "xdot = np.array([-np.inf, -1, -.5, 0, .5, 1])\n",
    "theta = np.arange(-0.42, .42, .21)\n",
    "thetadot = np.array([-np.inf, -.1, -.05, 0, .05, .1])\n",
    "\n",
    "print(\"x:\", x)\n",
    "print(\"theta:\", theta)\n",
    "print(\"thetadot:\", thetadot)\n",
    "print(\"xdot:\", xdot)\n",
    "\n",
    "N = x.shape[0]*xdot.shape[0]*theta.shape[0]*thetadot.shape[0]\n",
    "\n",
    "Q = np.zeros((N,2))\n",
    "\n",
    "def q_map(obs):\n",
    "    i = np.nonzero(x <= obs[0])[0][-1]\n",
    "    j = np.nonzero(xdot <= obs[1])[0][-1]\n",
    "    k = np.nonzero(theta <= obs[2])[0][-1]\n",
    "    l = np.nonzero(thetadot <= obs[3])[0][-1]\n",
    "    \n",
    "    return l + (k + (j + i*xdot.shape[0])*theta.shape[0])*thetadot.shape[0]"
   ]
  },
  {
   "cell_type": "code",
   "execution_count": 5,
   "id": "d9f8e1f0",
   "metadata": {},
   "outputs": [
    {
     "name": "stdout",
     "output_type": "stream",
     "text": [
      "0\n",
      "1\n",
      "6\n",
      "24\n",
      "144\n"
     ]
    }
   ],
   "source": [
    "print(q_map(np.array([-4.5, -2, -.4, -.2])))\n",
    "print(q_map(np.array([-4.5, -2, -.4, -.08])))\n",
    "print(q_map(np.array([-4.5, -2, -.1, -.2])))\n",
    "print(q_map(np.array([-4.5, -.8, -.4, -.2])))\n",
    "print(q_map(np.array([-2.5, -2, -.4, -.2])))"
   ]
  },
  {
   "cell_type": "markdown",
   "id": "b42c4dfc",
   "metadata": {},
   "source": [
    "Now we just need to collect some experience and update our Q function until it converges on a successful policy. Feel free to run the following cell a few times until the total return is at a satisfactory value. (Note this probably won't acheive a particularly high score. Just train it until it can reach a score of 100 every once in a while)."
   ]
  },
  {
   "cell_type": "code",
   "execution_count": 10,
   "id": "a38c3eda",
   "metadata": {},
   "outputs": [
    {
     "name": "stdout",
     "output_type": "stream",
     "text": [
      "Episode 0\n",
      "Total return: 27.0\n",
      "Episode 1\n",
      "Total return: 13.0\n",
      "Episode 2\n",
      "Total return: 37.0\n",
      "Episode 3\n",
      "Total return: 47.0\n",
      "Episode 4\n",
      "Total return: 18.0\n",
      "Episode 5\n",
      "Total return: 31.0\n",
      "Episode 6\n",
      "Total return: 16.0\n",
      "Episode 7\n",
      "Total return: 81.0\n",
      "Episode 8\n",
      "Total return: 24.0\n",
      "Episode 9\n",
      "Total return: 32.0\n",
      "Episode 10\n",
      "Total return: 32.0\n",
      "Episode 11\n",
      "Total return: 46.0\n",
      "Episode 12\n",
      "Total return: 26.0\n",
      "Episode 13\n",
      "Total return: 30.0\n",
      "Episode 14\n",
      "Total return: 29.0\n",
      "Episode 15\n",
      "Total return: 12.0\n",
      "Episode 16\n",
      "Total return: 11.0\n",
      "Episode 17\n",
      "Total return: 46.0\n",
      "Episode 18\n",
      "Total return: 23.0\n",
      "Episode 19\n",
      "Total return: 32.0\n",
      "Episode 20\n",
      "Total return: 73.0\n",
      "Episode 21\n",
      "Total return: 47.0\n",
      "Episode 22\n",
      "Total return: 38.0\n",
      "Episode 23\n",
      "Total return: 39.0\n",
      "Episode 24\n",
      "Total return: 9.0\n",
      "Episode 25\n",
      "Total return: 13.0\n",
      "Episode 26\n",
      "Total return: 12.0\n",
      "Episode 27\n",
      "Total return: 75.0\n",
      "Episode 28\n",
      "Total return: 28.0\n",
      "Episode 29\n",
      "Total return: 30.0\n",
      "Episode 30\n",
      "Total return: 112.0\n",
      "Episode 31\n",
      "Total return: 22.0\n",
      "Episode 32\n",
      "Total return: 43.0\n",
      "Episode 33\n",
      "Total return: 17.0\n",
      "Episode 34\n",
      "Total return: 101.0\n",
      "Episode 35\n",
      "Total return: 26.0\n",
      "Episode 36\n",
      "Total return: 24.0\n",
      "Episode 37\n",
      "Total return: 29.0\n",
      "Episode 38\n",
      "Total return: 45.0\n",
      "Episode 39\n",
      "Total return: 64.0\n",
      "Episode 40\n",
      "Total return: 75.0\n",
      "Episode 41\n",
      "Total return: 30.0\n",
      "Episode 42\n",
      "Total return: 15.0\n",
      "Episode 43\n",
      "Total return: 24.0\n",
      "Episode 44\n",
      "Total return: 14.0\n",
      "Episode 45\n",
      "Total return: 20.0\n",
      "Episode 46\n",
      "Total return: 12.0\n",
      "Episode 47\n",
      "Total return: 33.0\n",
      "Episode 48\n",
      "Total return: 21.0\n",
      "Episode 49\n",
      "Total return: 45.0\n",
      "Episode 50\n",
      "Total return: 20.0\n",
      "Episode 51\n",
      "Total return: 9.0\n",
      "Episode 52\n",
      "Total return: 29.0\n",
      "Episode 53\n",
      "Total return: 20.0\n",
      "Episode 54\n",
      "Total return: 18.0\n",
      "Episode 55\n",
      "Total return: 33.0\n",
      "Episode 56\n",
      "Total return: 13.0\n",
      "Episode 57\n",
      "Total return: 14.0\n",
      "Episode 58\n",
      "Total return: 52.0\n",
      "Episode 59\n",
      "Total return: 13.0\n",
      "Episode 60\n",
      "Total return: 34.0\n",
      "Episode 61\n",
      "Total return: 18.0\n",
      "Episode 62\n",
      "Total return: 22.0\n",
      "Episode 63\n",
      "Total return: 15.0\n",
      "Episode 64\n",
      "Total return: 34.0\n",
      "Episode 65\n",
      "Total return: 19.0\n",
      "Episode 66\n",
      "Total return: 67.0\n",
      "Episode 67\n",
      "Total return: 10.0\n",
      "Episode 68\n",
      "Total return: 33.0\n",
      "Episode 69\n",
      "Total return: 44.0\n",
      "Episode 70\n",
      "Total return: 16.0\n",
      "Episode 71\n",
      "Total return: 50.0\n",
      "Episode 72\n",
      "Total return: 92.0\n",
      "Episode 73\n",
      "Total return: 42.0\n",
      "Episode 74\n",
      "Total return: 25.0\n",
      "Episode 75\n",
      "Total return: 14.0\n",
      "Episode 76\n",
      "Total return: 24.0\n",
      "Episode 77\n",
      "Total return: 44.0\n",
      "Episode 78\n",
      "Total return: 28.0\n",
      "Episode 79\n",
      "Total return: 29.0\n",
      "Episode 80\n",
      "Total return: 32.0\n",
      "Episode 81\n",
      "Total return: 31.0\n",
      "Episode 82\n",
      "Total return: 16.0\n",
      "Episode 83\n",
      "Total return: 49.0\n",
      "Episode 84\n",
      "Total return: 14.0\n",
      "Episode 85\n",
      "Total return: 107.0\n",
      "Episode 86\n",
      "Total return: 11.0\n",
      "Episode 87\n",
      "Total return: 72.0\n",
      "Episode 88\n",
      "Total return: 16.0\n",
      "Episode 89\n",
      "Total return: 24.0\n",
      "Episode 90\n",
      "Total return: 19.0\n",
      "Episode 91\n",
      "Total return: 14.0\n",
      "Episode 92\n",
      "Total return: 18.0\n",
      "Episode 93\n",
      "Total return: 68.0\n",
      "Episode 94\n",
      "Total return: 46.0\n",
      "Episode 95\n",
      "Total return: 24.0\n",
      "Episode 96\n",
      "Total return: 16.0\n",
      "Episode 97\n",
      "Total return: 24.0\n",
      "Episode 98\n",
      "Total return: 50.0\n",
      "Episode 99\n",
      "Total return: 57.0\n"
     ]
    }
   ],
   "source": [
    "for i in range(100):\n",
    "    print(\"Episode\", i)\n",
    "    obs = env.reset()\n",
    "    total_return = 0\n",
    "    done = False\n",
    "    while not done:\n",
    "        ind = q_map(obs)\n",
    "        if np.random.rand() > .1:\n",
    "            action = np.argmax(Q[ind])\n",
    "        else:\n",
    "            action = env.action_space.sample()\n",
    "        obs, reward, done, _ = env.step(action)\n",
    "        total_return += reward\n",
    "\n",
    "        Q[ind, action] = reward + 0.99 * np.max(Q[q_map(obs)])\n",
    "    print(\"Total return:\", total_return)\n",
    "\n",
    "env.close()"
   ]
  },
  {
   "cell_type": "markdown",
   "id": "ba164e4f",
   "metadata": {},
   "source": [
    "Now that we've trained a Q function we can visualize how well it performs."
   ]
  },
  {
   "cell_type": "code",
   "execution_count": 11,
   "id": "5a07d0cc",
   "metadata": {},
   "outputs": [
    {
     "data": {
      "image/png": "[encoded data removed]",
      "text/plain": [
       "<Figure size 432x288 with 1 Axes>"
      ]
     },
     "metadata": {
      "needs_background": "light"
     },
     "output_type": "display_data"
    }
   ],
   "source": [
    "obs = env.reset()\n",
    "img = plt.imshow(env.render(mode='rgb_array'))\n",
    "done = False\n",
    "while not done:\n",
    "    ind = q_map(obs)\n",
    "    if np.random.rand() > .1:\n",
    "        action = np.argmax(Q[ind])\n",
    "    else:\n",
    "        action = env.action_space.sample()\n",
    "    obs, reward, done, _ = env.step(action)\n",
    "\n",
    "    Q[ind, action] = reward + 0.99 * np.max(Q[q_map(obs)])\n",
    "\n",
    "    img.set_data(env.render(mode='rgb_array'))\n",
    "    display.display(plt.gcf())\n",
    "    display.clear_output(wait=True)\n",
    "env.close()"
   ]
  }
 ],
 "metadata": {
  "kernelspec": {
   "display_name": "Python 3 (ipykernel)",
   "language": "python",
   "name": "python3"
  },
  "language_info": {
   "codemirror_mode": {
    "name": "ipython",
    "version": 3
   },
   "file_extension": ".py",
   "mimetype": "text/x-python",
   "name": "python",
   "nbconvert_exporter": "python",
   "pygments_lexer": "ipython3",
   "version": "3.9.7"
  }
 },
 "nbformat": 4,
 "nbformat_minor": 5
}
