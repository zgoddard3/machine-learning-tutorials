{
 "cells": [
  {
   "cell_type": "markdown",
   "id": "e088a871",
   "metadata": {},
   "source": [
    "# Reinforcement Learning\n",
    "\n",
    "This tutorial will walk through some initial concepts and algorithms for reinforcement learning (RL). I'll assume you've already done the general introduction on supervised learning with Tensorflow. We'll start with basic Q-learning to introduce the concept of RL, but you will need to be familiar with Tensorflow models for some of the later algorithms.\n",
    "\n",
    "Additionally, the focus of this tutorial will be on RL in control applications. We'll start by introducing some basic concepts followed by an example with the pendulum problem."
   ]
  },
  {
   "cell_type": "markdown",
   "id": "6f785ff6-2916-4f2d-a998-4c28e297f991",
   "metadata": {},
   "source": [
    "## Markov Decision Process (MDP)\n",
    "\n",
    "Reinfocement learning problems seek to find a solution to an MDP which maximizes a reward. An MDP is represented by a set of states $S$, a set of actions $A$, a reward function $R(s_t,a_t,s_{t+1}) : S \\times A \\times S \\rightarrow \\mathbb{R}$, and a transition function $P(s_t,a_t,s_{t+1}) : S \\times A \\times S \\rightarrow [0,1]$. The reward function maps a transition $(s_t,a_t,s_{t+1})$ to a scalar reward. In many cases this may be simplified to a function of state-action pairs $(s_t,a_t)$ or just state. The transition function returns the probability that a state-action pair $(s_t,a_t)$ will result in a given state $s_{t+1}$. A solution to an MDP is a policy $\\pi(a_t|s_t) : A \\times S \\rightarrow \\mathbb{R}$ which gives the probability of an action $a_t$ given the current state $s_t$. For deterministic policies this may also be written as $\\mu(s_t) : S \\rightarrow A$ which returns an action given the current state.\n",
    "\n",
    "MDPs often have a discount factor $0 \\leq \\gamma < 1$ to weight immediate rewards more favorably than future rewards. In this case the objective of the policy is to maximize the return of a trajectory $\\tau = \\{ (s_0, a_0), (s_1, a_1), ..., (s_T, a_T)\\}$. The return is defined as $G = \\sum_{t=0}^{T-1} \\gamma^t R(s_t, a_t, s_{t+1})$.\n",
    "\n",
    "## Control Theory\n",
    "\n",
    "Control problems can usually be modeled as an MDP with some minor tweaks and typically different notation. For notation, the state space is often denoted as $X$ and the action space is called the control space denoted as $U$. The reward function is also typically replaced with a cost function $J(x,u)$ which we wish to minimize. The transition function is analogous to the system dynamics $\\dot{x} = f(x,u,w,t)$. We'll mostly be working with deterministic, time-invariant systems represented by the simplified expression $\\dot{x} = f(x,u)$. The following notebook will be dealing with simulations and numerical algorithms, so it's also convenient to work with a discrete-time representation $x_{t+1} = f(x_t, u_t)$. In this representation the parallels to MDPs should be fairly obvious. \n",
    "\n",
    "## Value Iteration\n",
    "\n",
    "Value iteration is one algorithm for solving MDPs if the transition and reward functions are known. Understanding how it works will provide some insight into the RL algorithms we discuss later, which have no direct access to the transition or reward function. Value iteration is based on the principal of optimality. In simple terms, this states that the tail end of any optimal trajectory is also optimal. In more mathematical terms, if you have an optimal trajectory from $x_0$ to $x_T$ which passes through $x_t$ then the portion of that trajectory from $x_t$ to $x_T$ is the optimal solution from $x_t$. This is the basic for dynamic programming methods, which typically find optimal solutions by working backwards from the goal finding optimal solutions to subproblems. Value iteration does this by iteratively solving the following equation:\n",
    "\n",
    "$V_{i+1}(s_t) = \\max_{a_t} \\sum_{s_{t+1}}P(s_t, a_t, s_{t+1})\\left[R(s_t, a_t, s_{t+1}) + \\gamma V_i(s_{t+1})\\right]$\n",
    "\n",
    "In the discrete case, this is guaranteed to converge to an optimal solution $V^*$ which has the following property:\n",
    "\n",
    "$V^*(s_t) = \\max_{a_t} \\sum_{s_{t+1}}P(s_t, a_t, s_{t+1})\\left[R(s_t, a_t, s_{t+1}) + \\gamma V^*(s_{t+1})\\right]$\n",
    "\n",
    "The optimal policy for the MDP is given by:\n",
    "\n",
    "$\\pi^*(s_t) = \\arg\\max_{a_t} \\sum_{s_{t+1}}P(s_t, a_t, s_{t+1})\\left[R(s_t, a_t, s_{t+1}) + \\gamma V^*(s_{t+1})\\right]$"
   ]
  },
  {
   "cell_type": "code",
   "execution_count": 1,
   "id": "48f0e2e3",
   "metadata": {},
   "outputs": [],
   "source": [
    "import tensorflow as tf\n",
    "import numpy as np\n",
    "import matplotlib.pyplot as plt\n",
    "import gym\n",
    "import time\n",
    "\n",
    "from IPython import display\n",
    "\n",
    "%matplotlib inline"
   ]
  },
  {
   "cell_type": "markdown",
   "id": "22390a12",
   "metadata": {},
   "source": [
    "## Loading Gym Environments\n",
    "\n",
    "OpenAI's Gym has a range of environments designed for RL experiments load in and use out-of-the-box. These environments include a simple cartpole problem. This environment gives the position and velocity of the cart and the angle and angular rate of the pendulum as the observation. There are two possible actions for the agent: push left or push right. The agent receives a reward of +1 every time step until the cart position or pendulum angle pass a given threshold. "
   ]
  },
  {
   "cell_type": "code",
   "execution_count": 2,
   "id": "5c0ea1de",
   "metadata": {},
   "outputs": [
    {
     "name": "stdout",
     "output_type": "stream",
     "text": [
      "Observation: Box([-1. -1. -8.], [1. 1. 8.], (3,), float32)\n",
      "Action: Box([-2.], [2.], (1,), float32)\n"
     ]
    }
   ],
   "source": [
    "env = gym.make(\"Pendulum-v1\")\n",
    "\n",
    "print(\"Observation:\", env.observation_space)\n",
    "print(\"Action:\", env.action_space)"
   ]
  },
  {
   "cell_type": "markdown",
   "id": "119804db",
   "metadata": {},
   "source": [
    "We can quickly visualize this environment to see how an agent is performing. Since we don't yet have an agent, we'll just sample actions randomly. Of course, this policy won't last long before failing."
   ]
  },
  {
   "cell_type": "code",
   "execution_count": 3,
   "id": "47e78bb5",
   "metadata": {},
   "outputs": [
    {
     "data": {
      "image/png": "[encoded data removed]",
      "text/plain": [
       "<Figure size 432x288 with 1 Axes>"
      ]
     },
     "metadata": {
      "needs_background": "light"
     },
     "output_type": "display_data"
    }
   ],
   "source": [
    "env.reset()\n",
    "img = plt.imshow(env.render(mode='rgb_array'))\n",
    "done = False\n",
    "while not done:\n",
    "    action = env.action_space.sample()\n",
    "    _, _, done, _ = env.step(action)\n",
    "    img.set_data(env.render(mode='rgb_array'))\n",
    "    display.display(plt.gcf())\n",
    "    display.clear_output(wait=True)\n",
    "env.close()"
   ]
  },
  {
   "cell_type": "markdown",
   "id": "300118de",
   "metadata": {},
   "source": [
    "## Q-Learning\n",
    "\n",
    "We start by solving this environment with the Q-learning algorithm. This isn't a *Deep* RL algorithm, but it provides a more clear example of the principles that later algorithms will be working off of. \n",
    "\n",
    "The objective of Q-Learning (and many algorithms we explore later) is to learn a q-function which $Q : S \\times A \\rightarrow \\mathbb{R}$ predicts the value for taking an action at a given state. This is similar to the value function in Value Iteration, but determines the value for state-action pairs instead of state alone. Similarly to value iteration, the optimal q-function should satisfy the following condition:\n",
    "\n",
    "$Q^*(s_t, a_t) = \\sum_{s_{t+1}} P(s_t, a_t, s_{t+t}) \\left[R(s_t, a_t, s_{t+1}) + \\gamma \\max_{a_{t+1}} Q^*(s_{t+1}, a_{t+1})\\right]$\n",
    "\n",
    "Regular Q-Learning represents this function as a look-up table and learns each value through dynamic programming. Since we don't have access to the transition function or reward function, we have to learn this function by sampling experience. Experience is sampled from the environment as transitions in the form $(s_t, a_t, s_{t+1})$. Each time new experience is sampled, the Q value is updated by the equation:\n",
    "\n",
    "$Q(s_t, a_t) \\leftarrow (1 - \\alpha) Q(s_t, a_t) + \\alpha \\left[R(s_t, a_t, s_{t+1}) + \\gamma \\max_a Q(s_{t+1}, a)\\right]$\n",
    "\n",
    "The learning rate $\\alpha$ is typically a small value which can be adjusted to change how fast the q-function is updated. This soft update allows the q-function to approximate stochastic transitions. The pendulum environment is deterministic, but we need to discretize the state space to create a tabular q-function. The soft update helps since our discretized state space doesn't perfectly represent the actual state."
   ]
  },
  {
   "cell_type": "code",
   "execution_count": 27,
   "id": "b420b263",
   "metadata": {},
   "outputs": [
    {
     "name": "stdout",
     "output_type": "stream",
     "text": [
      "theta: [-3.14159265 -2.82743339 -2.51327412 -2.19911486 -1.88495559 -1.57079633\n",
      " -1.25663706 -0.9424778  -0.62831853 -0.31415927  0.          0.31415927\n",
      "  0.62831853  0.9424778   1.25663706  1.57079633  1.88495559  2.19911486\n",
      "  2.51327412  2.82743339  3.14159265]\n",
      "thetadot: [-inf -7.5 -7.  -6.5 -6.  -5.5 -5.  -4.5 -4.  -3.5 -3.  -2.5 -2.  -1.5\n",
      " -1.  -0.5  0.   0.5  1.   1.5  2.   2.5  3.   3.5  4.   4.5  5.   5.5\n",
      "  6.   6.5  7.   7.5]\n",
      "N: 672\n"
     ]
    }
   ],
   "source": [
    "theta = np.linspace(-np.pi, np.pi, 21)\n",
    "thetadot = np.arange(-8, 7.6, .5)\n",
    "thetadot[0] = -np.inf # Setting first entry to neg. infinity for numerical errors\n",
    "\n",
    "print(\"theta:\", theta)\n",
    "print(\"thetadot:\", thetadot)\n",
    "\n",
    "N = theta.shape[0]*thetadot.shape[0]\n",
    "\n",
    "print(\"N:\", N)\n",
    "\n",
    "Q = np.zeros((N,3))\n",
    "\n",
    "def state_map(obs):\n",
    "    angle = np.arctan2(obs[1], obs[0])\n",
    "    i = np.nonzero(theta <= angle)[0][-1]\n",
    "    j = np.nonzero(thetadot <= obs[2])[0][-1]\n",
    "    \n",
    "    return j + i*thetadot.shape[0]\n",
    "\n",
    "def action_map(action):\n",
    "    if action == 0:\n",
    "        return np.array([-2])\n",
    "    elif action == 1:\n",
    "        return np.array([0])\n",
    "    else:\n",
    "        return np.array([2])"
   ]
  },
  {
   "cell_type": "code",
   "execution_count": 28,
   "id": "d9f8e1f0",
   "metadata": {},
   "outputs": [
    {
     "name": "stdout",
     "output_type": "stream",
     "text": [
      "0\n",
      "32\n",
      "641\n",
      "[-2]\n",
      "[0]\n",
      "[2]\n"
     ]
    }
   ],
   "source": [
    "print(state_map([-1, -0.001, -8]))\n",
    "print(state_map([np.cos(-2.6), np.sin(-2.6), -8]))\n",
    "print(state_map([-1, 0, -7.4]))\n",
    "\n",
    "print(action_map(0))\n",
    "print(action_map(1))\n",
    "print(action_map(2))"
   ]
  },
  {
   "cell_type": "markdown",
   "id": "b42c4dfc",
   "metadata": {},
   "source": [
    "Now we just need to collect some experience and update our Q function until it converges on a successful policy. Feel free to run the following cell a few times until the total return is at a satisfactory value. (Note this probably won't acheive a particularly high score. Just train it until it can reach a score of 100 every once in a while)."
   ]
  },
  {
   "cell_type": "code",
   "execution_count": 42,
   "id": "a38c3eda",
   "metadata": {},
   "outputs": [
    {
     "name": "stdout",
     "output_type": "stream",
     "text": [
      "Episode 0\n",
      "Total return: -381.5415588095833\n",
      "Episode 1\n",
      "Total return: -623.8190069295432\n",
      "Episode 2\n",
      "Total return: -748.0620876034568\n",
      "Episode 3\n",
      "Total return: -374.5873348590019\n",
      "Episode 4\n",
      "Total return: -635.6661592066587\n",
      "Episode 5\n",
      "Total return: -744.8051013099672\n",
      "Episode 6\n",
      "Total return: -126.36726749240648\n",
      "Episode 7\n",
      "Total return: -608.4058701534519\n",
      "Episode 8\n",
      "Total return: -490.4911026004222\n",
      "Episode 9\n",
      "Total return: -368.14152708182047\n",
      "Episode 10\n",
      "Total return: -251.4697137676263\n",
      "Episode 11\n",
      "Total return: -616.7708352909402\n",
      "Episode 12\n",
      "Total return: -648.3177695298467\n",
      "Episode 13\n",
      "Total return: -379.73448745500156\n",
      "Episode 14\n",
      "Total return: -380.09451831415697\n",
      "Episode 15\n",
      "Total return: -237.72955350357745\n",
      "Episode 16\n",
      "Total return: -824.0895109426322\n",
      "Episode 17\n",
      "Total return: -254.2110737472445\n",
      "Episode 18\n",
      "Total return: -243.19367181234455\n",
      "Episode 19\n",
      "Total return: -451.78642946398935\n",
      "Episode 20\n",
      "Total return: -635.1523562833295\n",
      "Episode 21\n",
      "Total return: -497.9901153673096\n",
      "Episode 22\n",
      "Total return: -508.9569554862897\n",
      "Episode 23\n",
      "Total return: -502.09442331906587\n",
      "Episode 24\n",
      "Total return: -766.8055700610571\n",
      "Episode 25\n",
      "Total return: -614.7960090589852\n",
      "Episode 26\n",
      "Total return: -491.86585364703603\n",
      "Episode 27\n",
      "Total return: -371.3748891468128\n",
      "Episode 28\n",
      "Total return: -750.7823046292795\n",
      "Episode 29\n",
      "Total return: -127.83931327136924\n",
      "Episode 30\n",
      "Total return: -2.7740690900525147\n",
      "Episode 31\n",
      "Total return: -605.6839804619417\n",
      "Episode 32\n",
      "Total return: -362.53950033422996\n",
      "Episode 33\n",
      "Total return: -126.70610854886178\n",
      "Episode 34\n",
      "Total return: -384.9915568728327\n",
      "Episode 35\n",
      "Total return: -382.38535207383904\n",
      "Episode 36\n",
      "Total return: -628.2467240959367\n",
      "Episode 37\n",
      "Total return: -737.0247862037919\n",
      "Episode 38\n",
      "Total return: -370.26305465055896\n",
      "Episode 39\n",
      "Total return: -730.3997700443406\n",
      "Episode 40\n",
      "Total return: -623.6171340809877\n",
      "Episode 41\n",
      "Total return: -512.1646991342093\n",
      "Episode 42\n",
      "Total return: -614.1279077405777\n",
      "Episode 43\n",
      "Total return: -621.1292893234512\n",
      "Episode 44\n",
      "Total return: -370.9013891539108\n",
      "Episode 45\n",
      "Total return: -249.20556509512537\n",
      "Episode 46\n",
      "Total return: -622.7450042328059\n",
      "Episode 47\n",
      "Total return: -373.17703339501503\n",
      "Episode 48\n",
      "Total return: -505.32609068868703\n",
      "Episode 49\n",
      "Total return: -250.73072290991894\n",
      "Episode 50\n",
      "Total return: -721.707877702008\n",
      "Episode 51\n",
      "Total return: -129.39515709732956\n",
      "Episode 52\n",
      "Total return: -432.9696087574185\n",
      "Episode 53\n",
      "Total return: -252.74288136019922\n",
      "Episode 54\n",
      "Total return: -126.0672392922852\n",
      "Episode 55\n",
      "Total return: -497.90612356252547\n",
      "Episode 56\n",
      "Total return: -571.2311982229115\n",
      "Episode 57\n",
      "Total return: -620.75748205533\n",
      "Episode 58\n",
      "Total return: -379.4675000276091\n",
      "Episode 59\n",
      "Total return: -626.6120268966853\n",
      "Episode 60\n",
      "Total return: -128.21265284522113\n",
      "Episode 61\n",
      "Total return: -301.3803969182341\n",
      "Episode 62\n",
      "Total return: -359.26533712079924\n",
      "Episode 63\n",
      "Total return: -866.0844168689869\n",
      "Episode 64\n",
      "Total return: -241.99130566861652\n",
      "Episode 65\n",
      "Total return: -757.9195393168378\n",
      "Episode 66\n",
      "Total return: -250.98845513357597\n",
      "Episode 67\n",
      "Total return: -495.39080168097365\n",
      "Episode 68\n",
      "Total return: -382.44377537149705\n",
      "Episode 69\n",
      "Total return: -729.9288918811004\n",
      "Episode 70\n",
      "Total return: -525.8784683395406\n",
      "Episode 71\n",
      "Total return: -489.0871333641666\n",
      "Episode 72\n",
      "Total return: -249.14040111530326\n",
      "Episode 73\n",
      "Total return: -385.4320505010247\n",
      "Episode 74\n",
      "Total return: -262.73226880042205\n",
      "Episode 75\n",
      "Total return: -480.5276413483575\n",
      "Episode 76\n",
      "Total return: -504.02683883566914\n",
      "Episode 77\n",
      "Total return: -657.128715433747\n",
      "Episode 78\n",
      "Total return: -494.3871665157909\n",
      "Episode 79\n",
      "Total return: -733.4232760953466\n",
      "Episode 80\n",
      "Total return: -777.890671735988\n",
      "Episode 81\n",
      "Total return: -751.0158765369629\n",
      "Episode 82\n",
      "Total return: -856.4271082865116\n",
      "Episode 83\n",
      "Total return: -506.0780845380987\n",
      "Episode 84\n",
      "Total return: -613.230884346462\n",
      "Episode 85\n",
      "Total return: -246.6239664586766\n",
      "Episode 86\n",
      "Total return: -731.4443868687518\n",
      "Episode 87\n",
      "Total return: -379.8995790666568\n",
      "Episode 88\n",
      "Total return: -621.6698445281979\n",
      "Episode 89\n",
      "Total return: -625.8155451210425\n",
      "Episode 90\n",
      "Total return: -626.7889617944788\n",
      "Episode 91\n",
      "Total return: -784.9325242612556\n",
      "Episode 92\n",
      "Total return: -505.0483628697253\n",
      "Episode 93\n",
      "Total return: -741.3295234318397\n",
      "Episode 94\n",
      "Total return: -255.45588635338845\n",
      "Episode 95\n",
      "Total return: -745.6272228750763\n",
      "Episode 96\n",
      "Total return: -374.94437518074244\n",
      "Episode 97\n",
      "Total return: -501.76123523468067\n",
      "Episode 98\n",
      "Total return: -383.52578360811725\n",
      "Episode 99\n",
      "Total return: -386.6040788517074\n"
     ]
    }
   ],
   "source": [
    "lr = 0.1\n",
    "for i in range(100):\n",
    "    print(\"Episode\", i)\n",
    "    obs = env.reset()\n",
    "    total_return = 0\n",
    "    done = False\n",
    "    while not done:\n",
    "        ind = state_map(obs)\n",
    "        if np.random.rand() > .2:\n",
    "            action = np.argmax(Q[ind])\n",
    "        else:\n",
    "            action = np.random.randint(3)\n",
    "        obs, reward, done, _ = env.step(action_map(action))\n",
    "        total_return += reward\n",
    "\n",
    "        Q[ind, action] = (1 - lr) * Q[ind, action] + lr * (reward + 0.99 * np.max(Q[state_map(obs)]))\n",
    "    print(\"Total return:\", total_return)\n",
    "\n",
    "env.close()"
   ]
  },
  {
   "cell_type": "markdown",
   "id": "ba164e4f",
   "metadata": {},
   "source": [
    "Now that we've trained a Q function we can visualize how well it performs."
   ]
  },
  {
   "cell_type": "code",
   "execution_count": 43,
   "id": "5a07d0cc",
   "metadata": {},
   "outputs": [
    {
     "data": {
      "image/png": "[encoded data removed]",
      "text/plain": [
       "<Figure size 432x288 with 1 Axes>"
      ]
     },
     "metadata": {
      "needs_background": "light"
     },
     "output_type": "display_data"
    }
   ],
   "source": [
    "obs = env.reset()\n",
    "img = plt.imshow(env.render(mode='rgb_array'))\n",
    "done = False\n",
    "while not done:\n",
    "    ind = state_map(obs)\n",
    "    action = np.argmax(Q[ind])\n",
    "    obs, reward, done, _ = env.step(action_map(action))\n",
    "\n",
    "    img.set_data(env.render(mode='rgb_array'))\n",
    "    display.display(plt.gcf())\n",
    "    display.clear_output(wait=True)\n",
    "env.close()"
   ]
  }
 ],
 "metadata": {
  "kernelspec": {
   "display_name": "Python 3 (ipykernel)",
   "language": "python",
   "name": "python3"
  },
  "language_info": {
   "codemirror_mode": {
    "name": "ipython",
    "version": 3
   },
   "file_extension": ".py",
   "mimetype": "text/x-python",
   "name": "python",
   "nbconvert_exporter": "python",
   "pygments_lexer": "ipython3",
   "version": "3.8.10"
  }
 },
 "nbformat": 4,
 "nbformat_minor": 5
}
