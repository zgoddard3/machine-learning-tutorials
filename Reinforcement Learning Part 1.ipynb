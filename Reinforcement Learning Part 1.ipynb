{
 "cells": [
  {
   "cell_type": "markdown",
   "id": "e088a871",
   "metadata": {},
   "source": [
    "# Reinforcement Learning\n",
    "\n",
    "This tutorial will walk through some initial concepts and algorithms for reinforcement learning (RL). I'll assume you've already done the general introduction on supervised learning with Tensorflow. We'll start with basic Q-learning to introduce the concept of RL, but you will need to be familiar with Tensorflow models for some of the later algorithms.\n",
    "\n",
    "Additionally, the focus of this tutorial will be on RL in control applications. We'll start by introducing the cartpole problem."
   ]
  },
  {
   "cell_type": "code",
   "execution_count": 1,
   "id": "48f0e2e3",
   "metadata": {},
   "outputs": [],
   "source": [
    "import tensorflow as tf\n",
    "import numpy as np\n",
    "import matplotlib.pyplot as plt\n",
    "import gym\n",
    "import time\n",
    "\n",
    "from IPython import display\n",
    "\n",
    "%matplotlib inline"
   ]
  },
  {
   "cell_type": "code",
   "execution_count": 2,
   "id": "5c0ea1de",
   "metadata": {},
   "outputs": [],
   "source": [
    "env = gym.make(\"CartPole-v1\")"
   ]
  },
  {
   "cell_type": "code",
   "execution_count": 7,
   "id": "47e78bb5",
   "metadata": {},
   "outputs": [
    {
     "data": {
      "image/png": "[encoded data removed]",
      "text/plain": [
       "<Figure size 432x288 with 1 Axes>"
      ]
     },
     "metadata": {
      "needs_background": "light"
     },
     "output_type": "display_data"
    }
   ],
   "source": [
    "env.reset()\n",
    "img = plt.imshow(env.render(mode='rgb_array'))\n",
    "done = False\n",
    "while not done:\n",
    "    action = env.action_space.sample()\n",
    "    _, _, done, _ = env.step(action)\n",
    "    img.set_data(env.render(mode='rgb_array'))\n",
    "    display.display(plt.gcf())\n",
    "    display.clear_output(wait=True)\n",
    "env.close()"
   ]
  },
  {
   "cell_type": "code",
   "execution_count": 9,
   "id": "c3eeaa5f",
   "metadata": {},
   "outputs": [
    {
     "data": {
      "text/plain": [
       "Box([-4.8000002e+00 -3.4028235e+38 -4.1887903e-01 -3.4028235e+38], [4.8000002e+00 3.4028235e+38 4.1887903e-01 3.4028235e+38], (4,), float32)"
      ]
     },
     "execution_count": 9,
     "metadata": {},
     "output_type": "execute_result"
    }
   ],
   "source": [
    "env.observation_space"
   ]
  },
  {
   "cell_type": "code",
   "execution_count": 38,
   "id": "b420b263",
   "metadata": {},
   "outputs": [
    {
     "name": "stdout",
     "output_type": "stream",
     "text": [
      "x: [-5 -3 -1  1  3]\n",
      "theta: [-0.42 -0.21  0.    0.21]\n",
      "thetadot: [ -inf -0.1  -0.05  0.    0.05  0.1 ]\n",
      "xdot: [-inf -1.  -0.5  0.   0.5  1. ]\n"
     ]
    }
   ],
   "source": [
    "x = np.arange(-5, 5, 2)\n",
    "xdot = np.array([-np.inf, -1, -.5, 0, .5, 1])\n",
    "theta = np.arange(-0.42, .42, .21)\n",
    "thetadot = np.array([-np.inf, -.1, -.05, 0, .05, .1])\n",
    "\n",
    "print(\"x:\", x)\n",
    "print(\"theta:\", theta)\n",
    "print(\"thetadot:\", thetadot)\n",
    "print(\"xdot:\", xdot)\n",
    "\n",
    "N = x.shape[0]*xdot.shape[0]*theta.shape[0]*thetadot.shape[0]\n",
    "\n",
    "Q = np.zeros((N,2))\n",
    "\n",
    "def q_map(obs):\n",
    "    i = np.nonzero(x <= obs[0])[0][-1]\n",
    "    j = np.nonzero(xdot <= obs[1])[0][-1]\n",
    "    k = np.nonzero(theta <= obs[2])[0][-1]\n",
    "    l = np.nonzero(thetadot <= obs[3])[0][-1]\n",
    "    \n",
    "    return l + (k + (j + i*xdot.shape[0])*theta.shape[0])*thetadot.shape[0]"
   ]
  },
  {
   "cell_type": "code",
   "execution_count": 43,
   "id": "d9f8e1f0",
   "metadata": {},
   "outputs": [
    {
     "name": "stdout",
     "output_type": "stream",
     "text": [
      "0\n",
      "1\n",
      "6\n",
      "24\n",
      "144\n"
     ]
    }
   ],
   "source": [
    "print(q_map(np.array([-4.5, -2, -.4, -.2])))\n",
    "print(q_map(np.array([-4.5, -2, -.4, -.08])))\n",
    "print(q_map(np.array([-4.5, -2, -.1, -.2])))\n",
    "print(q_map(np.array([-4.5, -.8, -.4, -.2])))\n",
    "print(q_map(np.array([-2.5, -2, -.4, -.2])))"
   ]
  },
  {
   "cell_type": "code",
   "execution_count": 70,
   "id": "a38c3eda",
   "metadata": {},
   "outputs": [],
   "source": [
    "for i in range(100):\n",
    "    obs = env.reset()\n",
    "#     img = plt.imshow(env.render(mode='rgb_array'))\n",
    "    done = False\n",
    "    while not done:\n",
    "        ind = q_map(obs)\n",
    "        if np.random.rand() > .1:\n",
    "            action = np.argmax(Q[ind])\n",
    "        else:\n",
    "            action = env.action_space.sample()\n",
    "        obs, reward, done, _ = env.step(action)\n",
    "\n",
    "        Q[ind, action] = reward + 0.99 * np.max(Q[q_map(obs)])\n",
    "\n",
    "#         img.set_data(env.render(mode='rgb_array'))\n",
    "#         display.display(plt.gcf())\n",
    "#         display.clear_output(wait=True)\n",
    "env.close()"
   ]
  },
  {
   "cell_type": "code",
   "execution_count": 72,
   "id": "87095069",
   "metadata": {},
   "outputs": [
    {
     "name": "stdout",
     "output_type": "stream",
     "text": [
      "99.99054526373463\n"
     ]
    }
   ],
   "source": [
    "print(np.max(Q))"
   ]
  },
  {
   "cell_type": "code",
   "execution_count": 74,
   "id": "5a07d0cc",
   "metadata": {},
   "outputs": [
    {
     "data": {
      "image/png": "[encoded data removed]",
      "text/plain": [
       "<Figure size 432x288 with 1 Axes>"
      ]
     },
     "metadata": {
      "needs_background": "light"
     },
     "output_type": "display_data"
    }
   ],
   "source": [
    "obs = env.reset()\n",
    "img = plt.imshow(env.render(mode='rgb_array'))\n",
    "done = False\n",
    "while not done:\n",
    "    ind = q_map(obs)\n",
    "    if np.random.rand() > .1:\n",
    "        action = np.argmax(Q[ind])\n",
    "    else:\n",
    "        action = env.action_space.sample()\n",
    "    obs, reward, done, _ = env.step(action)\n",
    "\n",
    "    Q[ind, action] = reward + 0.99 * np.max(Q[q_map(obs)])\n",
    "\n",
    "    img.set_data(env.render(mode='rgb_array'))\n",
    "    display.display(plt.gcf())\n",
    "    display.clear_output(wait=True)"
   ]
  }
 ],
 "metadata": {
  "kernelspec": {
   "display_name": "Python 3 (ipykernel)",
   "language": "python",
   "name": "python3"
  },
  "language_info": {
   "codemirror_mode": {
    "name": "ipython",
    "version": 3
   },
   "file_extension": ".py",
   "mimetype": "text/x-python",
   "name": "python",
   "nbconvert_exporter": "python",
   "pygments_lexer": "ipython3",
   "version": "3.8.10"
  }
 },
 "nbformat": 4,
 "nbformat_minor": 5
}
